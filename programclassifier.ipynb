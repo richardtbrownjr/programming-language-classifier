{
 "cells": [
  {
   "cell_type": "code",
   "execution_count": 607,
   "metadata": {
    "collapsed": true
   },
   "outputs": [],
   "source": [
    "import glob\n",
    "import csv\n",
    "import matplotlib.pyplot as plt\n",
    "import pandas as pd\n",
    "import numpy as np\n",
    "from sklearn.feature_extraction.text import CountVectorizer\n",
    "#from sklearn.feature_extraction.text import TfidfTransformer\n",
    "from sklearn.naive_bayes import MultinomialNB\n",
    "#from sklearn.naive_bayes import GaussianNB, BernoulliNB\n",
    "from sklearn.pipeline import Pipeline\n",
    "from sklearn.cross_validation import train_test_split\n",
    "from sklearn.metrics import accuracy_score\n",
    "\n",
    "#%matplotlib inline"
   ]
  },
  {
   "cell_type": "markdown",
   "metadata": {},
   "source": [
    "# Load data of the different programming languages"
   ]
  },
  {
   "cell_type": "code",
   "execution_count": 608,
   "metadata": {
    "collapsed": false
   },
   "outputs": [],
   "source": [
    "program_languages = {\n",
    "    'gcc': 'c', \n",
    "    'c': 'c',\n",
    "    'csharp': 'csharp',\n",
    "    'sbcl': 'common lisp',\n",
    "    'clojure': 'clojure',\n",
    "    'lhs': 'haskell',\n",
    "    'java': 'java',\n",
    "    'javascript': 'javascript',\n",
    "    'ocaml': 'ocaml',\n",
    "    'perl': 'perl',\n",
    "    'hack': 'php', \n",
    "    'php': 'PHP',\n",
    "    'python3': 'python',\n",
    "    'py': 'python',\n",
    "    'jruby': 'ruby', \n",
    "    'yarv': 'ruby',\n",
    "    'scala': 'scala',\n",
    "    'racket': 'scheme'\n",
    "}"
   ]
  },
  {
   "cell_type": "code",
   "execution_count": 609,
   "metadata": {
    "collapsed": false
   },
   "outputs": [],
   "source": [
    "def file_search(file):\n",
    "    files = glob.glob(file, recursive=True)\n",
    "    text = []\n",
    "    #print('This', files)\n",
    "    for file in files:\n",
    "        with open(file, encoding='latin_1') as f:\n",
    "            text.append(f.read())\n",
    "\n",
    "    return text"
   ]
  },
  {
   "cell_type": "code",
   "execution_count": 610,
   "metadata": {
    "collapsed": false
   },
   "outputs": [],
   "source": [
    "x_train = []\n",
    "y_train = []\n",
    "for key, vals in program_languages.items():\n",
    "    x = file_search('benchmarksgame1/benchmarksgame/bench/**/*.{}'.format(key))\n",
    "    x_train += x\n",
    "    y_train += (len(x) * [vals.lower()])"
   ]
  },
  {
   "cell_type": "markdown",
   "metadata": {},
   "source": [
    "## Teach or model the train data"
   ]
  },
  {
   "cell_type": "code",
   "execution_count": 611,
   "metadata": {
    "collapsed": true
   },
   "outputs": [],
   "source": [
    "pipeline = Pipeline([\n",
    "        ('vect', CountVectorizer(analyzer='word', token_pattern=r'\\w{2,}|\\s{2,}|[^\\w\\d\\s]')),\n",
    "        ('clf', MultinomialNB()),\n",
    "    ])"
   ]
  },
  {
   "cell_type": "code",
   "execution_count": 612,
   "metadata": {
    "collapsed": false
   },
   "outputs": [
    {
     "data": {
      "text/plain": [
       "Pipeline(steps=[('vect', CountVectorizer(analyzer='word', binary=False, decode_error='strict',\n",
       "        dtype=<class 'numpy.int64'>, encoding='utf-8', input='content',\n",
       "        lowercase=True, max_df=1.0, max_features=None, min_df=1,\n",
       "        ngram_range=(1, 1), preprocessor=None, stop_words=None,\n",
       "        strip_accents=None, token_pattern='\\\\w{2,}|\\\\s{2,}|[^\\\\w\\\\d\\\\s]',\n",
       "        tokenizer=None, vocabulary=None)), ('clf', MultinomialNB(alpha=1.0, class_prior=None, fit_prior=True))])"
      ]
     },
     "execution_count": 612,
     "metadata": {},
     "output_type": "execute_result"
    }
   ],
   "source": [
    "pipeline.fit(x_train, y_train)"
   ]
  },
  {
   "cell_type": "code",
   "execution_count": 613,
   "metadata": {
    "collapsed": false
   },
   "outputs": [
    {
     "data": {
      "text/plain": [
       "0.9899749373433584"
      ]
     },
     "execution_count": 613,
     "metadata": {},
     "output_type": "execute_result"
    }
   ],
   "source": [
    "x_train, x_test, y_train, y_test = train_test_split(x_train, y_train, test_size=0.65, random_state=4)\n",
    "pipeline.score(x_train, y_train)"
   ]
  },
  {
   "cell_type": "markdown",
   "metadata": {},
   "source": [
    "## Read in test data for predict stage"
   ]
  },
  {
   "cell_type": "code",
   "execution_count": 614,
   "metadata": {
    "collapsed": false
   },
   "outputs": [],
   "source": [
    "testdf = pd.read_csv('test.csv', names=['index', 'ynew_data'])\n",
    "\n",
    "xtests = []\n",
    "for number in testdf['index']:\n",
    "    with open('test/{}'.format(number), encoding='latin_1') as f:\n",
    "        xtests.append(f.read())\n",
    "\n",
    "testdf['xtests'] = xtests\n",
    "# len(ynew_data)\n",
    "# len(testdf.ynew_data)"
   ]
  },
  {
   "cell_type": "code",
   "execution_count": 618,
   "metadata": {
    "collapsed": false
   },
   "outputs": [
    {
     "name": "stdout",
     "output_type": "stream",
     "text": [
      "php javascript\n",
      "scala javascript\n",
      "c javascript\n",
      "php ruby\n",
      "scala haskell\n",
      "clojure haskell\n",
      "php haskell\n",
      "c java\n",
      "c java\n",
      "php tcl\n",
      "php tcl\n",
      "c php\n"
     ]
    }
   ],
   "source": [
    "for _, series in testdf.iterrows():\n",
    "    x = series['xtests']\n",
    "    y = series['ynew_data']\n",
    "    predicted_language = pipeline.predict([x])[0]\n",
    "    #if predicted_language != y:\n",
    "    #    print(predicted_language, y)"
   ]
  },
  {
   "cell_type": "code",
   "execution_count": 616,
   "metadata": {
    "collapsed": false
   },
   "outputs": [
    {
     "data": {
      "text/plain": [
       "0.625"
      ]
     },
     "execution_count": 616,
     "metadata": {},
     "output_type": "execute_result"
    }
   ],
   "source": [
    "pipeline.score(xtests, testdf.ynew_data)"
   ]
  },
  {
   "cell_type": "code",
   "execution_count": 537,
   "metadata": {
    "collapsed": false
   },
   "outputs": [],
   "source": [
    "y_pred = pipeline.predict(testdf.xtests)\n",
    "#y_pred.shape\n",
    "#y_test.head()\n",
    "#len(xtests)\n",
    "#len(ynew_data)"
   ]
  },
  {
   "cell_type": "code",
   "execution_count": 619,
   "metadata": {
    "collapsed": false
   },
   "outputs": [
    {
     "data": {
      "text/plain": [
       "0.21875"
      ]
     },
     "execution_count": 619,
     "metadata": {},
     "output_type": "execute_result"
    }
   ],
   "source": [
    "\n",
    "accuracy_score(testdf.ynew_data, y_pred)"
   ]
  },
  {
   "cell_type": "markdown",
   "metadata": {},
   "source": [
    "## accuracy Score is quite low.  There are some issues bringing in the training data that I am still working on.  I believe once those issues are fixed scores should get up .7 or higher."
   ]
  },
  {
   "cell_type": "code",
   "execution_count": null,
   "metadata": {
    "collapsed": false
   },
   "outputs": [],
   "source": []
  },
  {
   "cell_type": "code",
   "execution_count": null,
   "metadata": {
    "collapsed": true
   },
   "outputs": [],
   "source": []
  }
 ],
 "metadata": {
  "kernelspec": {
   "display_name": "Python 3",
   "language": "python",
   "name": "python3"
  },
  "language_info": {
   "codemirror_mode": {
    "name": "ipython",
    "version": 3
   },
   "file_extension": ".py",
   "mimetype": "text/x-python",
   "name": "python",
   "nbconvert_exporter": "python",
   "pygments_lexer": "ipython3",
   "version": "3.5.1"
  }
 },
 "nbformat": 4,
 "nbformat_minor": 0
}
